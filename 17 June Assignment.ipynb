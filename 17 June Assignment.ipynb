{
 "cells": [
  {
   "cell_type": "code",
   "execution_count": null,
   "id": "f7f2850e",
   "metadata": {},
   "outputs": [],
   "source": [
    "#question 1\n",
    "\"\"\"The try block is used to check some code for errors i.e the code inside the try block will execute when there is no error in the program. \n",
    "   Whereas the code inside the except block will execute \n",
    "   whenever the program encounters some error in the preceding try block.\"\"\"\n",
    "try:\n",
    "    #code\n",
    "except:\n",
    "    #executed if error in the \n",
    "    #try block"
   ]
  },
  {
   "cell_type": "code",
   "execution_count": null,
   "id": "0c90443b",
   "metadata": {},
   "outputs": [],
   "source": [
    "# question 2\n",
    "#syntax of try and except\n",
    "try:\n",
    "    #run the code\n",
    "except:\n",
    "    #execute this code when there is an\n",
    "    #exception"
   ]
  },
  {
   "cell_type": "code",
   "execution_count": 3,
   "id": "723b4c0f",
   "metadata": {},
   "outputs": [
    {
     "ename": "SyntaxError",
     "evalue": "unexpected EOF while parsing (2049013185.py, line 5)",
     "output_type": "error",
     "traceback": [
      "\u001b[1;36m  File \u001b[1;32m\"C:\\Users\\Harshitha S\\AppData\\Local\\Temp\\ipykernel_8540\\2049013185.py\"\u001b[1;36m, line \u001b[1;32m5\u001b[0m\n\u001b[1;33m    \u001b[0m\n\u001b[1;37m    ^\u001b[0m\n\u001b[1;31mSyntaxError\u001b[0m\u001b[1;31m:\u001b[0m unexpected EOF while parsing\n"
     ]
    }
   ],
   "source": [
    "#question 3\n",
    "#try:\n",
    "    #val = int(input(\"enter the num\"))\n",
    "    #print(val)\n",
    "SyntaxError: unexpected EOF while parsing   \n",
    "    \n",
    "\"\"\" if we give statement in try block and without handling it in except block then syntax error will raise\"\"\""
   ]
  },
  {
   "cell_type": "code",
   "execution_count": 9,
   "id": "a7136cb2",
   "metadata": {},
   "outputs": [
    {
     "name": "stdout",
     "output_type": "stream",
     "text": [
      "Could not open harshitha.txt\n"
     ]
    }
   ],
   "source": [
    "#question 4\n",
    "# bare except block will handle the error in try block and prints the statement we give in the except block\n",
    "# specified except block will tell the type of error and its stories \n",
    "#for example\n",
    "try:\n",
    "    with open('harshitha.txt') as file:\n",
    "        read_data = file.read()\n",
    "except:\n",
    "    print('Could not open harshitha.txt') # bare except block"
   ]
  },
  {
   "cell_type": "code",
   "execution_count": 8,
   "id": "0fea0f17",
   "metadata": {},
   "outputs": [
    {
     "name": "stdout",
     "output_type": "stream",
     "text": [
      "[Errno 2] No such file or directory: 'harshitha.txt'\n"
     ]
    }
   ],
   "source": [
    "#To catch this type of exception and print it to screen, you could use the following code:\n",
    "try:\n",
    "    with open('harshitha.txt') as file:\n",
    "        read_data = file.read()\n",
    "except FileNotFoundError as e:  #specified except block\n",
    "    print(e)"
   ]
  },
  {
   "cell_type": "code",
   "execution_count": 10,
   "id": "c05c9726",
   "metadata": {},
   "outputs": [
    {
     "name": "stdout",
     "output_type": "stream",
     "text": [
      "please enter an integerwe\n",
      "enter integer only\n",
      "please enter an integer once againas\n",
      "i can handle the above second time.please enter integer only\n",
      "done\n"
     ]
    }
   ],
   "source": [
    "# question 5\n",
    "#yes we have nested try except block in python\n",
    "try:\n",
    "    val = int(input(\"please enter an integer\"))\n",
    "except:\n",
    "    print(\"enter integer only\")\n",
    "    try:\n",
    "        val = int(input(\"please enter an integer once again\"))\n",
    "    except:\n",
    "        print(\"i can handle the above second time.please enter integer only\")\n",
    "    finally:\n",
    "        print(\"done\")"
   ]
  },
  {
   "cell_type": "code",
   "execution_count": 16,
   "id": "947a89aa",
   "metadata": {},
   "outputs": [
    {
     "name": "stdout",
     "output_type": "stream",
     "text": [
      "Index Out of Bound.\n"
     ]
    }
   ],
   "source": [
    "# question 6\n",
    "# we can have multiple exceptions in a try block\n",
    "try:\n",
    "    odd_numbers = [3,7,9,1]\n",
    "    print(even_numbers[5])\n",
    "\n",
    "except ValueError:\n",
    "    print(\"enter number only.\")\n",
    "    \n",
    "except IndexError:\n",
    "    print(\"Index Out of Bound.\")  # here we are giving only 4 elements in a list \n",
    "                                  #but given the index as 5 which is out of rang"
   ]
  },
  {
   "cell_type": "code",
   "execution_count": 19,
   "id": "86646b8c",
   "metadata": {},
   "outputs": [
    {
     "ename": "SyntaxError",
     "evalue": "unexpected EOF while parsing (830170195.py, line 5)",
     "output_type": "error",
     "traceback": [
      "\u001b[1;36m  File \u001b[1;32m\"C:\\Users\\Harshitha S\\AppData\\Local\\Temp\\ipykernel_8540\\830170195.py\"\u001b[1;36m, line \u001b[1;32m5\u001b[0m\n\u001b[1;33m    val = int(input(\"enter num\"))\u001b[0m\n\u001b[1;37m                                 ^\u001b[0m\n\u001b[1;31mSyntaxError\u001b[0m\u001b[1;31m:\u001b[0m unexpected EOF while parsing\n"
     ]
    }
   ],
   "source": [
    "# question 7\n",
    "#1.EOFError:\n",
    "    # this error will occur if we don't give except block to handle the error in try block\n",
    "try:\n",
    "    val = int(input(\"enter num\"))  # the below error is an EOFerror\n"
   ]
  },
  {
   "cell_type": "code",
   "execution_count": 15,
   "id": "2fbc87e7",
   "metadata": {},
   "outputs": [
    {
     "name": "stdout",
     "output_type": "stream",
     "text": [
      "enter a decimal number: 2.567\n",
      "you have entered floating num only\n"
     ]
    },
    {
     "data": {
      "text/plain": [
       "'the FloatingPointError in Python indicates that something has gone wrong with a floating point calculation. \\nHowever, unlike most other languages, Python will not raise a FloatingPointError by default.'"
      ]
     },
     "execution_count": 15,
     "metadata": {},
     "output_type": "execute_result"
    }
   ],
   "source": [
    "#2.FloatingPointError\n",
    "try:\n",
    "    float(input(\"enter a decimal number: \"))\n",
    "    print(\"you have entered floating num only\")\n",
    "except FloatingPointError as e:\n",
    "    print(e)\n",
    "\"\"\"the FloatingPointError in Python indicates that something has gone wrong with a floating point calculation. \n",
    "However, unlike most other languages, Python will not raise a FloatingPointError by default.\"\"\"\n"
   ]
  },
  {
   "cell_type": "code",
   "execution_count": 20,
   "id": "fc187e5d",
   "metadata": {},
   "outputs": [
    {
     "name": "stdout",
     "output_type": "stream",
     "text": [
      "2\n",
      "3\n",
      "45\n",
      "5\n",
      "7\n",
      "8\n",
      "9\n",
      "0\n",
      "2\n",
      "9\n",
      "list index out of range\n"
     ]
    }
   ],
   "source": [
    "#3.Index error\n",
    "my_list = [2,3,45,5,7,8,9,0,2,9]\n",
    "try:\n",
    "    for i in range(len(my_list) + 1):\n",
    "        print(my_list[i])\n",
    "except IndexError as e:\n",
    "    print(e)\n",
    "# IndexError: list index out of range.as we give len(my_list) +1 .the index is out of range"
   ]
  },
  {
   "cell_type": "code",
   "execution_count": 25,
   "id": "e6ca520a",
   "metadata": {},
   "outputs": [
    {
     "data": {
      "text/plain": [
       "'Python Memory Error or in layman language is exactly what it means, \\n   you have run out of memory in your RAM for your code to execute.if i give some lakhs of number as multiple of two\\n   then this error occurs'"
      ]
     },
     "execution_count": 25,
     "metadata": {},
     "output_type": "execute_result"
    }
   ],
   "source": [
    "# MemoryError\n",
    "try:\n",
    "    [2]*500\n",
    "except MemoryError as e:\n",
    "    print(e)\n",
    "\"\"\"Python Memory Error or in layman language is exactly what it means, \n",
    "   you have run out of memory in your RAM for your code to execute.if i give some lakhs of number as multiple of two\n",
    "   then this error occurs\"\"\""
   ]
  },
  {
   "cell_type": "code",
   "execution_count": 30,
   "id": "4934720b",
   "metadata": {},
   "outputs": [
    {
     "name": "stdout",
     "output_type": "stream",
     "text": [
      "The exponential value is\n",
      "math range error\n"
     ]
    },
    {
     "data": {
      "text/plain": [
       "'The OverflowError in Python indicates that an arithmetic operation has exceeded the limits of the current Python runtime. \\n   This is typically due to excessively large Float values, \\n   as Integer values that are too big will opt to raise MemoryErrors instead.'"
      ]
     },
     "execution_count": 30,
     "metadata": {},
     "output_type": "execute_result"
    }
   ],
   "source": [
    "#OverflowError:\n",
    "import math\n",
    "try:\n",
    "    print(\"The exponential value is\")\n",
    "    print(math.exp(2000))\n",
    "except OverflowError as e:\n",
    "    print(e)\n",
    "\"\"\"The OverflowError in Python indicates that an arithmetic operation has exceeded the limits of the current Python runtime. \n",
    "   This is typically due to excessively large Float values, \n",
    "   as Integer values that are too big will opt to raise MemoryErrors instead.\"\"\""
   ]
  },
  {
   "cell_type": "code",
   "execution_count": 9,
   "id": "c5bd87f3",
   "metadata": {},
   "outputs": [
    {
     "name": "stdout",
     "output_type": "stream",
     "text": [
      "pass\n",
      "congrats\n"
     ]
    },
    {
     "data": {
      "text/plain": [
       "' The Python TabError is inconsistent use of tabs and spaces in indentation Error Occurs \\n    when we mix tabs and spaces in the same block. \\n    To solve this error, First remove the spacing and use only tabs or spaces, \\n    but don’t mix both in the same code block.'"
      ]
     },
     "execution_count": 9,
     "metadata": {},
     "output_type": "execute_result"
    }
   ],
   "source": [
    "# TabError\n",
    "def check(marks):\n",
    "    try:\n",
    "        if(marks>60):\n",
    "            print(\"pass\")   # with tab space\n",
    "            print(\"congrats\") # with white spaces\n",
    "    except TabError as e:\n",
    "        print(e)\n",
    "check(66)  \n",
    "\"\"\" The Python TabError is inconsistent use of tabs and spaces in indentation Error Occurs \n",
    "    when we mix tabs and spaces in the same block. \n",
    "    To solve this error, First remove the spacing and use only tabs or spaces, \n",
    "    but don’t mix both in the same code block.\"\"\"\n"
   ]
  },
  {
   "cell_type": "code",
   "execution_count": 3,
   "id": "ffa47455",
   "metadata": {},
   "outputs": [
    {
     "name": "stdout",
     "output_type": "stream",
     "text": [
      "Please enter a positive number: -7\n",
      "You entered -7, which is not a positive number.\n",
      "Please enter a positive number: -4\n",
      "You entered -4, which is not a positive number.\n",
      "Please enter a positive number: 5\n",
      "Square Root of 5 is 2.23606797749979\n"
     ]
    }
   ],
   "source": [
    "#ValueError\n",
    "import math\n",
    "while True:\n",
    "    a = int(input('Please enter a positive number: '))\n",
    "    try:\n",
    "        print(f'Square Root of {a} is {math.sqrt(a)}')\n",
    "        break\n",
    "    except ValueError as ve:\n",
    "        print(f'You entered {a}, which is not a positive number.')\n"
   ]
  },
  {
   "cell_type": "code",
   "execution_count": 3,
   "id": "d76cd881",
   "metadata": {},
   "outputs": [
    {
     "name": "stdout",
     "output_type": "stream",
     "text": [
      "enter the number12\n",
      "enter another number0\n",
      "denominator should not be zero\n",
      "enter the number34\n",
      "enter another number56\n",
      "div as  0.6071428571428571\n",
      "done\n"
     ]
    }
   ],
   "source": [
    "#question 8\n",
    "# program to divide two numbers\n",
    "while True:\n",
    "    a = int(input(\"enter the number\"))\n",
    "    b = int(input(\"enter another number\"))\n",
    "    try:\n",
    "        c = a/b\n",
    "        print('div as ',c)\n",
    "        break\n",
    "    except ZeroDivisionError as e:\n",
    "        print(\"denominator should not be zero\")\n",
    "        continue\n",
    "        print(e)\n",
    "print('done')"
   ]
  },
  {
   "cell_type": "code",
   "execution_count": 9,
   "id": "3be70c4b",
   "metadata": {},
   "outputs": [
    {
     "name": "stdout",
     "output_type": "stream",
     "text": [
      "invalid literal for int() with base 10: 'divya'\n",
      "bye\n"
     ]
    }
   ],
   "source": [
    "# program to convert string to list\n",
    "def string_int(name):\n",
    "    try:\n",
    "        a = 'divya'\n",
    "        b = int(a)\n",
    "        print(b)\n",
    "    except ValueError as e:\n",
    "        print(e)\n",
    "    finally:\n",
    "        print('bye')\n",
    "string_int(a)"
   ]
  },
  {
   "cell_type": "code",
   "execution_count": 24,
   "id": "0f8646bf",
   "metadata": {},
   "outputs": [
    {
     "name": "stdout",
     "output_type": "stream",
     "text": [
      "list index out of range\n",
      "[3, 5, 7]\n",
      "done\n"
     ]
    }
   ],
   "source": [
    "#progran to extract element from a list\n",
    "l = [2,3,4,5,6,7,8]\n",
    "try:\n",
    "    for i in range(len(l)+1):\n",
    "        print(l[8])\n",
    "except IndexError as e:\n",
    "    print(e)\n",
    "    try:\n",
    "        print([l[i] for i in (1,3,5)])\n",
    "    except :\n",
    "        pass\n",
    "finally:\n",
    "    print(\"done\")       "
   ]
  },
  {
   "cell_type": "code",
   "execution_count": 35,
   "id": "b91cd547",
   "metadata": {},
   "outputs": [
    {
     "name": "stdout",
     "output_type": "stream",
     "text": [
      "enter first num :12\n",
      "enter second num-9\n",
      "no neg nums\n",
      "enter first num :34\n",
      "enter second num0\n",
      "b shouldnot be zero\n",
      "enter first num :w\n",
      "integer only\n",
      "enter first num :12\n",
      "enter second num6\n",
      "div 2.0\n"
     ]
    }
   ],
   "source": [
    "while True:\n",
    "    try:\n",
    "        a = int(input(\"enter first num :\"))\n",
    "        b = int(input(\"enter second num\"))\n",
    "        if a<0 or b<0 : raise Exception(\"no neg nums\")\n",
    "        c = a/b\n",
    "        print(\"div\",c)\n",
    "        break\n",
    "    except ValueError:\n",
    "        print(\"integer only\")\n",
    "    except ZeroDivisionError:\n",
    "        print(\"b shouldnot be zero\")\n",
    "    except Exception as e:\n",
    "        print(e)"
   ]
  },
  {
   "cell_type": "code",
   "execution_count": 28,
   "id": "0e62e5b7",
   "metadata": {},
   "outputs": [
    {
     "name": "stdout",
     "output_type": "stream",
     "text": [
      "Second element = 2\n",
      "An error occurred\n"
     ]
    }
   ],
   "source": [
    "# program to handle any exception\n",
    "a = [1, 2, 3]\n",
    "try:\n",
    "    print (\"Second element = %d\" %(a[1]))\n",
    " \n",
    "    # Throws error since there are only 3 elements in array\n",
    "    print (\"Fourth element = %d\" %(a[3]))\n",
    "except:\n",
    "    print (\"An error occurred\")"
   ]
  }
 ],
 "metadata": {
  "kernelspec": {
   "display_name": "Python 3 (ipykernel)",
   "language": "python",
   "name": "python3"
  },
  "language_info": {
   "codemirror_mode": {
    "name": "ipython",
    "version": 3
   },
   "file_extension": ".py",
   "mimetype": "text/x-python",
   "name": "python",
   "nbconvert_exporter": "python",
   "pygments_lexer": "ipython3",
   "version": "3.9.13"
  }
 },
 "nbformat": 4,
 "nbformat_minor": 5
}
